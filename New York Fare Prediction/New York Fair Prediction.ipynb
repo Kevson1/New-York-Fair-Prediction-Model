{
 "cells": [
  {
   "cell_type": "markdown",
   "id": "01666bad-91d6-4e7c-9275-aee53d3eadf9",
   "metadata": {},
   "source": [
    "# Import the required libraries"
   ]
  },
  {
   "cell_type": "code",
   "execution_count": 1,
   "id": "c0abc49a-a47b-4e7d-b2ab-6c1fe4ba07cc",
   "metadata": {},
   "outputs": [],
   "source": [
    "import numpy as np\n",
    "import pandas as pd\n",
    "import matplotlib.pyplot as plt\n",
    "import seaborn as sns"
   ]
  },
  {
   "cell_type": "markdown",
   "id": "e0b9feac-fa7a-4ccd-b781-8105d814dabf",
   "metadata": {},
   "source": [
    "# Get the train data"
   ]
  },
  {
   "cell_type": "markdown",
   "id": "733ee7c9-3308-4de0-a0cc-a0e920003309",
   "metadata": {},
   "source": [
    "#### Since pandas is a bit slow in reading the 55 million rows of data from the train dataset, i began by generating a random sample dataset which is 20% of the original data set (about 11,000,000 rows)"
   ]
  },
  {
   "cell_type": "code",
   "execution_count": 2,
   "id": "82b17515-99ff-49b7-b9a1-45402f35b763",
   "metadata": {},
   "outputs": [
    {
     "name": "stderr",
     "output_type": "stream",
     "text": [
      "C:\\Users\\HP\\anaconda3\\lib\\site-packages\\IPython\\core\\interactiveshell.py:3165: DtypeWarning: Columns (5,6) have mixed types.Specify dtype option on import or set low_memory=False.\n",
      "  has_raised = await self.run_ast_nodes(code_ast.body, cell_name,\n"
     ]
    }
   ],
   "source": [
    "New_York_Fair_train = pd.read_csv('TrainRandomSample(20%).csv')"
   ]
  },
  {
   "cell_type": "code",
   "execution_count": 3,
   "id": "9453b698-ea8f-4660-b731-7478bc5b2840",
   "metadata": {},
   "outputs": [
    {
     "data": {
      "text/html": [
       "<div>\n",
       "<style scoped>\n",
       "    .dataframe tbody tr th:only-of-type {\n",
       "        vertical-align: middle;\n",
       "    }\n",
       "\n",
       "    .dataframe tbody tr th {\n",
       "        vertical-align: top;\n",
       "    }\n",
       "\n",
       "    .dataframe thead th {\n",
       "        text-align: right;\n",
       "    }\n",
       "</style>\n",
       "<table border=\"1\" class=\"dataframe\">\n",
       "  <thead>\n",
       "    <tr style=\"text-align: right;\">\n",
       "      <th></th>\n",
       "      <th>key</th>\n",
       "      <th>fare_amount</th>\n",
       "      <th>pickup_datetime</th>\n",
       "      <th>pickup_longitude</th>\n",
       "      <th>pickup_latitude</th>\n",
       "      <th>dropoff_longitude</th>\n",
       "      <th>dropoff_latitude</th>\n",
       "      <th>passenger_count</th>\n",
       "    </tr>\n",
       "  </thead>\n",
       "  <tbody>\n",
       "    <tr>\n",
       "      <th>0</th>\n",
       "      <td>2009-06-15 17:26:21.0000001</td>\n",
       "      <td>4.5</td>\n",
       "      <td>2009-06-15 17:26:21 UTC</td>\n",
       "      <td>-73.844311</td>\n",
       "      <td>40.721319</td>\n",
       "      <td>-73.84161</td>\n",
       "      <td>40.712278</td>\n",
       "      <td>1</td>\n",
       "    </tr>\n",
       "    <tr>\n",
       "      <th>1</th>\n",
       "      <td>2010-03-09 07:51:00.000000135</td>\n",
       "      <td>5.3</td>\n",
       "      <td>2010-03-09 07:51:00 UTC</td>\n",
       "      <td>-73.968095</td>\n",
       "      <td>40.768008</td>\n",
       "      <td>-73.956655</td>\n",
       "      <td>40.783762</td>\n",
       "      <td>1</td>\n",
       "    </tr>\n",
       "    <tr>\n",
       "      <th>2</th>\n",
       "      <td>2012-12-03 13:10:00.000000125</td>\n",
       "      <td>9.0</td>\n",
       "      <td>2012-12-03 13:10:00 UTC</td>\n",
       "      <td>-74.006462</td>\n",
       "      <td>40.726713</td>\n",
       "      <td>-73.993078</td>\n",
       "      <td>40.731628</td>\n",
       "      <td>1</td>\n",
       "    </tr>\n",
       "    <tr>\n",
       "      <th>3</th>\n",
       "      <td>2009-09-02 01:11:00.00000083</td>\n",
       "      <td>8.9</td>\n",
       "      <td>2009-09-02 01:11:00 UTC</td>\n",
       "      <td>-73.980658</td>\n",
       "      <td>40.733873</td>\n",
       "      <td>-73.99154</td>\n",
       "      <td>40.758138</td>\n",
       "      <td>2</td>\n",
       "    </tr>\n",
       "    <tr>\n",
       "      <th>4</th>\n",
       "      <td>2012-04-08 07:30:50.0000002</td>\n",
       "      <td>5.3</td>\n",
       "      <td>2012-04-08 07:30:50 UTC</td>\n",
       "      <td>-73.996335</td>\n",
       "      <td>40.737142</td>\n",
       "      <td>-73.980721</td>\n",
       "      <td>40.733559</td>\n",
       "      <td>1</td>\n",
       "    </tr>\n",
       "  </tbody>\n",
       "</table>\n",
       "</div>"
      ],
      "text/plain": [
       "                             key  fare_amount          pickup_datetime  \\\n",
       "0    2009-06-15 17:26:21.0000001          4.5  2009-06-15 17:26:21 UTC   \n",
       "1  2010-03-09 07:51:00.000000135          5.3  2010-03-09 07:51:00 UTC   \n",
       "2  2012-12-03 13:10:00.000000125          9.0  2012-12-03 13:10:00 UTC   \n",
       "3   2009-09-02 01:11:00.00000083          8.9  2009-09-02 01:11:00 UTC   \n",
       "4    2012-04-08 07:30:50.0000002          5.3  2012-04-08 07:30:50 UTC   \n",
       "\n",
       "   pickup_longitude  pickup_latitude dropoff_longitude dropoff_latitude  \\\n",
       "0        -73.844311        40.721319         -73.84161        40.712278   \n",
       "1        -73.968095        40.768008        -73.956655        40.783762   \n",
       "2        -74.006462        40.726713        -73.993078        40.731628   \n",
       "3        -73.980658        40.733873         -73.99154        40.758138   \n",
       "4        -73.996335        40.737142        -73.980721        40.733559   \n",
       "\n",
       "   passenger_count  \n",
       "0                1  \n",
       "1                1  \n",
       "2                1  \n",
       "3                2  \n",
       "4                1  "
      ]
     },
     "execution_count": 3,
     "metadata": {},
     "output_type": "execute_result"
    }
   ],
   "source": [
    "New_York_Fair_train.head()"
   ]
  },
  {
   "cell_type": "markdown",
   "id": "d34bea90-ac75-4f47-a16e-a9f47073b039",
   "metadata": {},
   "source": [
    "# Data manipulation and cleaning"
   ]
  },
  {
   "cell_type": "markdown",
   "id": "526c297b-2f00-4856-88b3-26a1baaca56e",
   "metadata": {},
   "source": [
    "## View the number of rows and columns that the data has"
   ]
  },
  {
   "cell_type": "code",
   "execution_count": 4,
   "id": "9a560542-6488-4865-a91d-a408774a3daa",
   "metadata": {},
   "outputs": [
    {
     "data": {
      "text/plain": [
       "(11085890, 8)"
      ]
     },
     "execution_count": 4,
     "metadata": {},
     "output_type": "execute_result"
    }
   ],
   "source": [
    "New_York_Fair_train.shape\n"
   ]
  },
  {
   "cell_type": "markdown",
   "id": "32523296-0989-4ffa-86d8-0ecc6ce70fe0",
   "metadata": {},
   "source": [
    "## View the data types of the data in the various columns"
   ]
  },
  {
   "cell_type": "code",
   "execution_count": 5,
   "id": "f12dab9b-daa1-4f08-92b4-2e1adcc81c80",
   "metadata": {},
   "outputs": [
    {
     "data": {
      "text/plain": [
       "key                   object\n",
       "fare_amount          float64\n",
       "pickup_datetime       object\n",
       "pickup_longitude     float64\n",
       "pickup_latitude      float64\n",
       "dropoff_longitude     object\n",
       "dropoff_latitude      object\n",
       "passenger_count        int64\n",
       "dtype: object"
      ]
     },
     "execution_count": 5,
     "metadata": {},
     "output_type": "execute_result"
    }
   ],
   "source": [
    "New_York_Fair_train.dtypes"
   ]
  },
  {
   "cell_type": "markdown",
   "id": "e92f2d74-69e4-43d8-8b73-b693d0cd2ac1",
   "metadata": {},
   "source": [
    "## Drop the rows with zero entries in the dropoff_latitude and Dropoff_longitude columns"
   ]
  },
  {
   "cell_type": "code",
   "execution_count": 6,
   "id": "2ddf1373-9b94-4dbe-bcfd-927924cb934a",
   "metadata": {},
   "outputs": [],
   "source": [
    "New_York_Fair_train = New_York_Fair_train.loc[(New_York_Fair_train[['dropoff_longitude', 'dropoff_latitude']] != 0).all(axis=1)]"
   ]
  },
  {
   "cell_type": "markdown",
   "id": "047e324c-602e-40f3-b904-9798fd13dd83",
   "metadata": {},
   "source": [
    "### Verify that the rows have been dropped"
   ]
  },
  {
   "cell_type": "code",
   "execution_count": 7,
   "id": "9a6bf786-29db-4b39-b297-4ab4cb047ac3",
   "metadata": {},
   "outputs": [
    {
     "data": {
      "text/plain": [
       "(10946938, 8)"
      ]
     },
     "execution_count": 7,
     "metadata": {},
     "output_type": "execute_result"
    }
   ],
   "source": [
    "New_York_Fair_train.shape"
   ]
  },
  {
   "cell_type": "markdown",
   "id": "b0f78654-2c7a-4ae0-8d3c-8fe3ef54226d",
   "metadata": {},
   "source": [
    "## Drop off the unwanted columns (Key & pickup-datetime)"
   ]
  },
  {
   "cell_type": "code",
   "execution_count": 8,
   "id": "be072681-e1ca-429c-9d3b-2d0d43aa5010",
   "metadata": {},
   "outputs": [],
   "source": [
    "New_York_Fair_train = New_York_Fair_train.drop(['key', 'pickup_datetime'], axis=1)"
   ]
  },
  {
   "cell_type": "markdown",
   "id": "bc459dba-6f16-4ff3-8cfc-066637a39730",
   "metadata": {},
   "source": [
    "#### Verify that the columns have been dropped."
   ]
  },
  {
   "cell_type": "code",
   "execution_count": 9,
   "id": "d981f6a5-f2ca-4700-88e3-b29f0b509e2d",
   "metadata": {},
   "outputs": [
    {
     "data": {
      "text/plain": [
       "Index(['fare_amount', 'pickup_longitude', 'pickup_latitude',\n",
       "       'dropoff_longitude', 'dropoff_latitude', 'passenger_count'],\n",
       "      dtype='object')"
      ]
     },
     "execution_count": 9,
     "metadata": {},
     "output_type": "execute_result"
    }
   ],
   "source": [
    "New_York_Fair_train.columns"
   ]
  },
  {
   "cell_type": "markdown",
   "id": "3acdb3bc-c2e5-4390-aed0-5695913878eb",
   "metadata": {},
   "source": [
    "## Check the datatypes of the remaining columns"
   ]
  },
  {
   "cell_type": "code",
   "execution_count": 10,
   "id": "e3eac729-7eef-46b5-9512-84acc25b4cee",
   "metadata": {
    "tags": []
   },
   "outputs": [
    {
     "name": "stdout",
     "output_type": "stream",
     "text": [
      "<class 'pandas.core.frame.DataFrame'>\n",
      "Int64Index: 10946938 entries, 0 to 11085889\n",
      "Data columns (total 6 columns):\n",
      " #   Column             Dtype  \n",
      "---  ------             -----  \n",
      " 0   fare_amount        float64\n",
      " 1   pickup_longitude   float64\n",
      " 2   pickup_latitude    float64\n",
      " 3   dropoff_longitude  object \n",
      " 4   dropoff_latitude   object \n",
      " 5   passenger_count    int64  \n",
      "dtypes: float64(3), int64(1), object(2)\n",
      "memory usage: 584.6+ MB\n"
     ]
    }
   ],
   "source": [
    "New_York_Fair_train.info()"
   ]
  },
  {
   "cell_type": "markdown",
   "id": "a5d36db4-1033-414f-9dce-df57ea3f9ee7",
   "metadata": {},
   "source": [
    "## Convert the object datatypes to numeric datatypes"
   ]
  },
  {
   "cell_type": "code",
   "execution_count": 11,
   "id": "e501f806-52e8-4efa-84db-fc7f277e589d",
   "metadata": {},
   "outputs": [],
   "source": [
    "New_York_Fair_train['dropoff_longitude'] = pd.to_numeric(New_York_Fair_train['dropoff_longitude'], errors = 'coerce')"
   ]
  },
  {
   "cell_type": "code",
   "execution_count": 12,
   "id": "9c3a0f91-247f-43d4-a65a-0ec3faa7244b",
   "metadata": {},
   "outputs": [],
   "source": [
    "New_York_Fair_train['dropoff_latitude'] = pd.to_numeric(New_York_Fair_train['dropoff_latitude'], errors = 'coerce')"
   ]
  },
  {
   "cell_type": "markdown",
   "id": "e7e61b66-460c-41c3-92e2-45334b221e39",
   "metadata": {},
   "source": [
    "### Confirm the conversion"
   ]
  },
  {
   "cell_type": "code",
   "execution_count": 13,
   "id": "527c6fdf-86d6-4ccd-ab60-7fb3d80f5f1c",
   "metadata": {},
   "outputs": [
    {
     "name": "stdout",
     "output_type": "stream",
     "text": [
      "<class 'pandas.core.frame.DataFrame'>\n",
      "Int64Index: 10946938 entries, 0 to 11085889\n",
      "Data columns (total 6 columns):\n",
      " #   Column             Dtype  \n",
      "---  ------             -----  \n",
      " 0   fare_amount        float64\n",
      " 1   pickup_longitude   float64\n",
      " 2   pickup_latitude    float64\n",
      " 3   dropoff_longitude  float64\n",
      " 4   dropoff_latitude   float64\n",
      " 5   passenger_count    int64  \n",
      "dtypes: float64(5), int64(1)\n",
      "memory usage: 584.6 MB\n"
     ]
    }
   ],
   "source": [
    "New_York_Fair_train.info()"
   ]
  },
  {
   "cell_type": "markdown",
   "id": "a02f31c4-4d2b-4a15-8c8e-fc83033614e2",
   "metadata": {},
   "source": [
    "## Check if the dataset has null values"
   ]
  },
  {
   "cell_type": "code",
   "execution_count": 14,
   "id": "ece20257-b360-493f-b3eb-e99fdc108c74",
   "metadata": {},
   "outputs": [
    {
     "data": {
      "text/plain": [
       "fare_amount           0\n",
       "pickup_longitude      0\n",
       "pickup_latitude       0\n",
       "dropoff_longitude    77\n",
       "dropoff_latitude     77\n",
       "passenger_count       0\n",
       "dtype: int64"
      ]
     },
     "execution_count": 14,
     "metadata": {},
     "output_type": "execute_result"
    }
   ],
   "source": [
    "New_York_Fair_train.isna().sum(axis=0)"
   ]
  },
  {
   "cell_type": "markdown",
   "id": "b8df8d5a-cc0e-4c3f-a358-fa0ab99affe5",
   "metadata": {},
   "source": [
    "### Drop the rows with null values"
   ]
  },
  {
   "cell_type": "code",
   "execution_count": 15,
   "id": "e264ef2d-af35-4ba5-8430-3934b04eccfb",
   "metadata": {},
   "outputs": [],
   "source": [
    "New_York_Fair_train = New_York_Fair_train.dropna()"
   ]
  },
  {
   "cell_type": "markdown",
   "id": "ccc9a9d1-665e-4957-a7cb-3570ddaad398",
   "metadata": {},
   "source": [
    "### Confirm that the nulls have been dropped"
   ]
  },
  {
   "cell_type": "code",
   "execution_count": 16,
   "id": "18a79955-b64e-4aea-9dc1-83f8f5be0b04",
   "metadata": {},
   "outputs": [
    {
     "data": {
      "text/plain": [
       "fare_amount          0\n",
       "pickup_longitude     0\n",
       "pickup_latitude      0\n",
       "dropoff_longitude    0\n",
       "dropoff_latitude     0\n",
       "passenger_count      0\n",
       "dtype: int64"
      ]
     },
     "execution_count": 16,
     "metadata": {},
     "output_type": "execute_result"
    }
   ],
   "source": [
    "New_York_Fair_train.isna().sum(axis=0)"
   ]
  },
  {
   "cell_type": "markdown",
   "id": "7d9fbfca-5300-41ab-b07e-ae0c0de96a39",
   "metadata": {},
   "source": [
    "### Check for duplicates in the dataset"
   ]
  },
  {
   "cell_type": "code",
   "execution_count": 17,
   "id": "58a3e676-14b5-4a02-bf28-39c2f7bf3b62",
   "metadata": {},
   "outputs": [
    {
     "data": {
      "text/plain": [
       "72536"
      ]
     },
     "execution_count": 17,
     "metadata": {},
     "output_type": "execute_result"
    }
   ],
   "source": [
    "New_York_Fair_train.duplicated().sum()"
   ]
  },
  {
   "cell_type": "markdown",
   "id": "8750122f-5a92-4efa-bfdd-12fb66e4152d",
   "metadata": {},
   "source": [
    "### Drop the duplicates"
   ]
  },
  {
   "cell_type": "code",
   "execution_count": 18,
   "id": "db27a3d9-330e-45c0-93ce-35cb575fe7f8",
   "metadata": {},
   "outputs": [],
   "source": [
    "New_York_Fair_train = New_York_Fair_train.drop_duplicates()"
   ]
  },
  {
   "cell_type": "code",
   "execution_count": 19,
   "id": "3e5a23f5-2c8d-4163-ae30-2b5a4362e42b",
   "metadata": {},
   "outputs": [
    {
     "data": {
      "text/plain": [
       "0"
      ]
     },
     "execution_count": 19,
     "metadata": {},
     "output_type": "execute_result"
    }
   ],
   "source": [
    "# Confirm that the duplicates were dropped\n",
    "New_York_Fair_train.duplicated().sum()"
   ]
  },
  {
   "cell_type": "code",
   "execution_count": 20,
   "id": "eb0df68a-14ba-49bb-82b9-b41d67fb244d",
   "metadata": {},
   "outputs": [
    {
     "data": {
      "text/html": [
       "<div>\n",
       "<style scoped>\n",
       "    .dataframe tbody tr th:only-of-type {\n",
       "        vertical-align: middle;\n",
       "    }\n",
       "\n",
       "    .dataframe tbody tr th {\n",
       "        vertical-align: top;\n",
       "    }\n",
       "\n",
       "    .dataframe thead th {\n",
       "        text-align: right;\n",
       "    }\n",
       "</style>\n",
       "<table border=\"1\" class=\"dataframe\">\n",
       "  <thead>\n",
       "    <tr style=\"text-align: right;\">\n",
       "      <th></th>\n",
       "      <th>fare_amount</th>\n",
       "      <th>pickup_longitude</th>\n",
       "      <th>pickup_latitude</th>\n",
       "      <th>dropoff_longitude</th>\n",
       "      <th>dropoff_latitude</th>\n",
       "      <th>passenger_count</th>\n",
       "    </tr>\n",
       "  </thead>\n",
       "  <tbody>\n",
       "    <tr>\n",
       "      <th>0</th>\n",
       "      <td>4.5</td>\n",
       "      <td>-73.844311</td>\n",
       "      <td>40.721319</td>\n",
       "      <td>-73.841610</td>\n",
       "      <td>40.712278</td>\n",
       "      <td>1</td>\n",
       "    </tr>\n",
       "    <tr>\n",
       "      <th>1</th>\n",
       "      <td>5.3</td>\n",
       "      <td>-73.968095</td>\n",
       "      <td>40.768008</td>\n",
       "      <td>-73.956655</td>\n",
       "      <td>40.783762</td>\n",
       "      <td>1</td>\n",
       "    </tr>\n",
       "    <tr>\n",
       "      <th>2</th>\n",
       "      <td>9.0</td>\n",
       "      <td>-74.006462</td>\n",
       "      <td>40.726713</td>\n",
       "      <td>-73.993078</td>\n",
       "      <td>40.731628</td>\n",
       "      <td>1</td>\n",
       "    </tr>\n",
       "    <tr>\n",
       "      <th>3</th>\n",
       "      <td>8.9</td>\n",
       "      <td>-73.980658</td>\n",
       "      <td>40.733873</td>\n",
       "      <td>-73.991540</td>\n",
       "      <td>40.758138</td>\n",
       "      <td>2</td>\n",
       "    </tr>\n",
       "    <tr>\n",
       "      <th>4</th>\n",
       "      <td>5.3</td>\n",
       "      <td>-73.996335</td>\n",
       "      <td>40.737142</td>\n",
       "      <td>-73.980721</td>\n",
       "      <td>40.733559</td>\n",
       "      <td>1</td>\n",
       "    </tr>\n",
       "  </tbody>\n",
       "</table>\n",
       "</div>"
      ],
      "text/plain": [
       "   fare_amount  pickup_longitude  pickup_latitude  dropoff_longitude  \\\n",
       "0          4.5        -73.844311        40.721319         -73.841610   \n",
       "1          5.3        -73.968095        40.768008         -73.956655   \n",
       "2          9.0        -74.006462        40.726713         -73.993078   \n",
       "3          8.9        -73.980658        40.733873         -73.991540   \n",
       "4          5.3        -73.996335        40.737142         -73.980721   \n",
       "\n",
       "   dropoff_latitude  passenger_count  \n",
       "0         40.712278                1  \n",
       "1         40.783762                1  \n",
       "2         40.731628                1  \n",
       "3         40.758138                2  \n",
       "4         40.733559                1  "
      ]
     },
     "execution_count": 20,
     "metadata": {},
     "output_type": "execute_result"
    }
   ],
   "source": [
    "New_York_Fair_train.head()"
   ]
  },
  {
   "cell_type": "markdown",
   "id": "e06893f9-ad6d-4b2a-bc56-a535ec035b71",
   "metadata": {},
   "source": [
    "### Display the descriptive summary of the Fare_amounts"
   ]
  },
  {
   "cell_type": "code",
   "execution_count": 21,
   "id": "b74e13b4-b930-4caf-904d-a0f775d08b99",
   "metadata": {},
   "outputs": [
    {
     "data": {
      "text/plain": [
       "count    1.087432e+07\n",
       "mean     1.133677e+01\n",
       "std      9.758028e+00\n",
       "min     -3.000000e+02\n",
       "25%      6.000000e+00\n",
       "50%      8.500000e+00\n",
       "75%      1.250000e+01\n",
       "max      2.010900e+03\n",
       "Name: fare_amount, dtype: float64"
      ]
     },
     "execution_count": 21,
     "metadata": {},
     "output_type": "execute_result"
    }
   ],
   "source": [
    "New_York_Fair_train['fare_amount'].describe()"
   ]
  },
  {
   "cell_type": "markdown",
   "id": "409913b6-6613-4ff2-b77f-07a2ee9fc8e4",
   "metadata": {},
   "source": [
    "## Check the correlation by generating a correlation matrix"
   ]
  },
  {
   "cell_type": "code",
   "execution_count": 22,
   "id": "2c238723-af6f-45ba-809a-9559bc755587",
   "metadata": {},
   "outputs": [],
   "source": [
    "corr_matrix = New_York_Fair_train.corr()"
   ]
  },
  {
   "cell_type": "markdown",
   "id": "a24109b4-25d6-45ad-bfd0-2975f4cda5d3",
   "metadata": {},
   "source": [
    "### Visualize the matrix"
   ]
  },
  {
   "cell_type": "code",
   "execution_count": 23,
   "id": "faec52aa-07ba-4180-98ad-5db46fd79df8",
   "metadata": {},
   "outputs": [
    {
     "data": {
      "text/plain": [
       "<AxesSubplot:>"
      ]
     },
     "execution_count": 23,
     "metadata": {},
     "output_type": "execute_result"
    },
    {
     "data": {
      "image/png": "[encoded data removed]",
      "text/plain": [
       "<Figure size 864x576 with 2 Axes>"
      ]
     },
     "metadata": {
      "needs_background": "light"
     },
     "output_type": "display_data"
    }
   ],
   "source": [
    "plt.figure(figsize=(12,8))\n",
    "sns.heatmap(corr_matrix, annot = True, cmap='inferno')"
   ]
  },
  {
   "cell_type": "markdown",
   "id": "7aa49f7e-d3c7-4ed4-91e0-52e307ddcd34",
   "metadata": {},
   "source": [
    "##### Since the goal is to predict the fare_amount, Fare_amount will be \"y\" and the other columns will be \"x\""
   ]
  },
  {
   "cell_type": "markdown",
   "id": "5b66063a-8050-4088-9dff-b2bb61e8779b",
   "metadata": {},
   "source": [
    "# Modelling"
   ]
  },
  {
   "cell_type": "markdown",
   "id": "2e486503-f756-447e-8582-3a920767e2b4",
   "metadata": {},
   "source": [
    "## We separate the \"x\" and the \"y\" variables"
   ]
  },
  {
   "cell_type": "code",
   "execution_count": 24,
   "id": "3ee5f3f6-bb32-4c4e-855e-59c44648c894",
   "metadata": {},
   "outputs": [],
   "source": [
    "x = New_York_Fair_train.drop('fare_amount', axis=1)\n",
    "y = New_York_Fair_train['fare_amount']"
   ]
  },
  {
   "cell_type": "markdown",
   "id": "9f608292-8c37-4b34-8e14-a7ba82c29bcf",
   "metadata": {},
   "source": [
    "## Create the model"
   ]
  },
  {
   "cell_type": "markdown",
   "id": "64e8e989-a272-41ef-87e6-90f666e35771",
   "metadata": {},
   "source": [
    "### Import the model metrics"
   ]
  },
  {
   "cell_type": "code",
   "execution_count": 25,
   "id": "2e280792-42cf-4c83-98cd-0587615b9421",
   "metadata": {},
   "outputs": [],
   "source": [
    "from sklearn.model_selection import train_test_split\n",
    "from sklearn.linear_model import LinearRegression\n",
    "from sklearn.tree import DecisionTreeRegressor\n",
    "from sklearn.metrics import mean_absolute_error, mean_squared_error"
   ]
  },
  {
   "cell_type": "code",
   "execution_count": 26,
   "id": "26eeba2d-755b-4058-8e7f-64a43e577e17",
   "metadata": {},
   "outputs": [],
   "source": [
    "### Split the data into test and Train data\n",
    "x_train, x_test, y_train, y_test = train_test_split(x, y, test_size=0.2, random_state=42)"
   ]
  },
  {
   "cell_type": "markdown",
   "id": "65921bf4-fe00-4153-adfe-53bee5275cdb",
   "metadata": {},
   "source": [
    "### Instantiate the model"
   ]
  },
  {
   "cell_type": "code",
   "execution_count": 27,
   "id": "da737414-6a5d-4066-8001-bf0b9d1a977d",
   "metadata": {},
   "outputs": [],
   "source": [
    "linear = LinearRegression()"
   ]
  },
  {
   "cell_type": "markdown",
   "id": "69ba6841-0612-482a-8a06-742d2f1586a8",
   "metadata": {},
   "source": [
    "### Train the model"
   ]
  },
  {
   "cell_type": "code",
   "execution_count": 28,
   "id": "75134179-c49c-4ee5-9a41-047ad61b95a1",
   "metadata": {},
   "outputs": [
    {
     "data": {
      "text/plain": [
       "LinearRegression()"
      ]
     },
     "execution_count": 28,
     "metadata": {},
     "output_type": "execute_result"
    }
   ],
   "source": [
    "linear.fit(x_train, y_train)"
   ]
  },
  {
   "cell_type": "markdown",
   "id": "81c9c252-ec42-459c-a9af-0d732a8c9a46",
   "metadata": {},
   "source": [
    "### Test the model"
   ]
  },
  {
   "cell_type": "code",
   "execution_count": 29,
   "id": "9d7bbd1b-e816-4696-9136-dfe5b73433cb",
   "metadata": {},
   "outputs": [],
   "source": [
    "predictions = linear.predict(x_test)"
   ]
  },
  {
   "cell_type": "markdown",
   "id": "ab8dad96-0a9a-45f0-88bf-7589ebc7121f",
   "metadata": {},
   "source": [
    "### Evaluate the model"
   ]
  },
  {
   "cell_type": "code",
   "execution_count": 30,
   "id": "cf938eec-18d9-40f2-94b2-192a54b941a3",
   "metadata": {},
   "outputs": [
    {
     "name": "stdout",
     "output_type": "stream",
     "text": [
      "95.55216833055036\n"
     ]
    }
   ],
   "source": [
    "error = mean_squared_error(y_test, predictions, squared=True)\n",
    "print(error)"
   ]
  },
  {
   "cell_type": "markdown",
   "id": "305669df-7fc6-44cd-bc26-d5de67842316",
   "metadata": {},
   "source": [
    "# save the model"
   ]
  },
  {
   "cell_type": "code",
   "execution_count": 31,
   "id": "dc6bc916-bdda-4ea4-b039-3243e0a5589c",
   "metadata": {},
   "outputs": [],
   "source": [
    "import joblib"
   ]
  },
  {
   "cell_type": "code",
   "execution_count": 32,
   "id": "48c66894-80dc-4b89-a7c2-fbb96faf3a7c",
   "metadata": {},
   "outputs": [
    {
     "data": {
      "text/plain": [
       "['regression.pkl']"
      ]
     },
     "execution_count": 32,
     "metadata": {},
     "output_type": "execute_result"
    }
   ],
   "source": [
    "joblib.dump(linear, 'regression.pkl')"
   ]
  },
  {
   "cell_type": "code",
   "execution_count": 33,
   "id": "4554d046-394d-45df-85d0-59e39286ea24",
   "metadata": {},
   "outputs": [
    {
     "data": {
      "text/plain": [
       "Index(['fare_amount', 'pickup_longitude', 'pickup_latitude',\n",
       "       'dropoff_longitude', 'dropoff_latitude', 'passenger_count'],\n",
       "      dtype='object')"
      ]
     },
     "execution_count": 33,
     "metadata": {},
     "output_type": "execute_result"
    }
   ],
   "source": [
    "New_York_Fair_train.columns"
   ]
  },
  {
   "cell_type": "code",
   "execution_count": null,
   "id": "9148bd68",
   "metadata": {},
   "outputs": [],
   "source": []
  }
 ],
 "metadata": {
  "interpreter": {
   "hash": "1e915f0a29dc84041eaeb02b7b1a21c440e37a87b61d44d5e84a515737dc82bc"
  },
  "kernelspec": {
   "display_name": "Python 3",
   "language": "python",
   "name": "python3"
  },
  "language_info": {
   "codemirror_mode": {
    "name": "ipython",
    "version": 3
   },
   "file_extension": ".py",
   "mimetype": "text/x-python",
   "name": "python",
   "nbconvert_exporter": "python",
   "pygments_lexer": "ipython3",
   "version": "3.8.8"
  }
 },
 "nbformat": 4,
 "nbformat_minor": 5
}
